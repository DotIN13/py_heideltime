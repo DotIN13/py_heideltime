{
 "cells": [
  {
   "cell_type": "markdown",
   "metadata": {
    "slideshow": {
     "slide_type": "skip"
    }
   },
   "source": [
    "<b><center><font size=\"4\">Heideltime Temporal Tagger (python implementation)</font></center></b>\n",
    "<hr>"
   ]
  },
  {
   "cell_type": "markdown",
   "metadata": {
    "slideshow": {
     "slide_type": "skip"
    }
   },
   "source": [
    "Notebook Developed by: [Ricardo Campos](http://www.ccc.ipt.pt/~ricardo)\n",
    "\n",
    "\n",
    "\n",
    "<hr>"
   ]
  },
  {
   "cell_type": "markdown",
   "metadata": {
    "toc": true
   },
   "source": [
    "<h1>Table of Contents<span class=\"tocSkip\"></span></h1>\n",
    "<div class=\"toc\"><ul class=\"toc-item\"><li><span><a href=\"#HeidelTime-Temporal-Tagger\" data-toc-modified-id=\"HeidelTime-Temporal-Tagger-1\"><span class=\"toc-item-num\">1&nbsp;&nbsp;</span>HeidelTime Temporal Tagger</a></span><ul class=\"toc-item\"><li><span><a href=\"#What-is-Heideltime-Temporal-Tagger?\" data-toc-modified-id=\"What-is-Heideltime-Temporal-Tagger?-1.1\"><span class=\"toc-item-num\">1.1&nbsp;&nbsp;</span>What is Heideltime Temporal Tagger?</a></span></li><li><span><a href=\"#What-is-py_heideltime?\" data-toc-modified-id=\"What-is-py_heideltime?-1.2\"><span class=\"toc-item-num\">1.2&nbsp;&nbsp;</span>What is py_heideltime?</a></span></li><li><span><a href=\"#Who-developed-this-package?\" data-toc-modified-id=\"Who-developed-this-package?-1.3\"><span class=\"toc-item-num\">1.3&nbsp;&nbsp;</span>Who developed this package?</a></span></li><li><span><a href=\"#Motivation\" data-toc-modified-id=\"Motivation-1.4\"><span class=\"toc-item-num\">1.4&nbsp;&nbsp;</span>Motivation</a></span></li><li><span><a href=\"#Supported-languages\" data-toc-modified-id=\"Supported-languages-1.5\"><span class=\"toc-item-num\">1.5&nbsp;&nbsp;</span>Supported languages</a></span></li><li><span><a href=\"#Where-can-I-find-py_heideltime?\" data-toc-modified-id=\"Where-can-I-find-py_heideltime?-1.6\"><span class=\"toc-item-num\">1.6&nbsp;&nbsp;</span>Where can I find py_heideltime?</a></span></li></ul></li><li><span><a href=\"#Package\" data-toc-modified-id=\"Package-2\"><span class=\"toc-item-num\">2&nbsp;&nbsp;</span>Package</a></span><ul class=\"toc-item\"><li><span><a href=\"#Installation\" data-toc-modified-id=\"Installation-2.1\"><span class=\"toc-item-num\">2.1&nbsp;&nbsp;</span>Installation</a></span></li><li><span><a href=\"#Usage-(Python)\" data-toc-modified-id=\"Usage-(Python)-2.2\"><span class=\"toc-item-num\">2.2&nbsp;&nbsp;</span>Usage (Python)</a></span><ul class=\"toc-item\"><li><span><a href=\"#Default-Parameters\" data-toc-modified-id=\"Default-Parameters-2.2.1\"><span class=\"toc-item-num\">2.2.1&nbsp;&nbsp;</span>Default Parameters</a></span></li><li><span><a href=\"#Optional-Parameters\" data-toc-modified-id=\"Optional-Parameters-2.2.2\"><span class=\"toc-item-num\">2.2.2&nbsp;&nbsp;</span>Optional Parameters</a></span></li></ul></li><li><span><a href=\"#Usage-(Command-Line)\" data-toc-modified-id=\"Usage-(Command-Line)-2.3\"><span class=\"toc-item-num\">2.3&nbsp;&nbsp;</span>Usage (Command Line)</a></span></li></ul></li><li><span><a href=\"#Related-Projects\" data-toc-modified-id=\"Related-Projects-3\"><span class=\"toc-item-num\">3&nbsp;&nbsp;</span>Related Projects</a></span></li><li><span><a href=\"#References\" data-toc-modified-id=\"References-4\"><span class=\"toc-item-num\">4&nbsp;&nbsp;</span>References</a></span></li></ul></div>"
   ]
  },
  {
   "cell_type": "markdown",
   "metadata": {},
   "source": [
    "## HeidelTime Temporal Tagger"
   ]
  },
  {
   "cell_type": "markdown",
   "metadata": {},
   "source": [
    "### What is Heideltime Temporal Tagger?"
   ]
  },
  {
   "cell_type": "markdown",
   "metadata": {},
   "source": [
    "Heideltime is a multilingual, domain-sensitive temporal tagger developed at the [Database Systems Research Group](https://dbs.ifi.uni-heidelberg.de/) at [Heidelberg University](https://www.uni-heidelberg.de/index_e.html). It contains hand-crafted resources for 13 languages: English, German, Dutch, Vietnamese, Arabic, Spanish, Italian, French, Chinese, Russian, Croatian, Estonian and Portuguese. Heideltime extracts temporal expressions from documents and normalizes them according to the TIMEX3 annotation standard. For more information about this temporal tagger, please visit the Heideltime Java standalone version: https://github.com/HeidelTime/heideltime"
   ]
  },
  {
   "cell_type": "markdown",
   "metadata": {},
   "source": [
    "### What is py_heideltime?"
   ]
  },
  {
   "cell_type": "markdown",
   "metadata": {},
   "source": [
    "[py_heideltime](https://github.com/JMendes1995/py_heideltime) is a python wrapper for the Heideltime Temporal Tagger."
   ]
  },
  {
   "cell_type": "markdown",
   "metadata": {},
   "source": [
    "### Who developed this package?"
   ]
  },
  {
   "cell_type": "markdown",
   "metadata": {},
   "source": [
    "This wrapper has been developed by [Jorge Mendes](https://github.com/JMendes1995) under the supervision of Professor [Ricardo Campos](http://www.ccc.ipt.pt/~ricardo/) in the scope of the Final Project of the Computer Science degree at the [Polytechnic Institute of Tomar](http://www.ipt.pt), Portugal."
   ]
  },
  {
   "cell_type": "markdown",
   "metadata": {},
   "source": [
    "### Motivation"
   ]
  },
  {
   "cell_type": "markdown",
   "metadata": {},
   "source": [
    "Although there already exist some python packages for Heideltime (in particular https://github.com/amineabdaoui/python-heideltime) all of them require a considerable intervention from the user side. In this project, we aim to overcome some of these limitations. Our aim was six-fold:"
   ]
  },
  {
   "cell_type": "markdown",
   "metadata": {},
   "source": [
    " - To provide a multi-platform (windows, Linux, Mac Os);\n",
    " - To make it user-friendly not only in terms of installation but also in its usage;\n",
    " - To make it lightweight without compromising its behavior;\n",
    " - To give the user the chance to choose the granularity (e.g., year, month, etc) of the dates to be extracted;\n",
    " - To retrieve to the user a normalized version of the text (where each temporal expression is replaced by the normalized Heideltime version); and\n",
    " - To retrieve a Time-ML annotated version of the text (as done in the Heideltime demo)."
   ]
  },
  {
   "cell_type": "markdown",
   "metadata": {},
   "source": [
    "### Supported languages"
   ]
  },
  {
   "cell_type": "markdown",
   "metadata": {},
   "source": [
    "This module is prepared to work with the following languages: English, Portuguese, Spanish, Germany, Dutch, Italian, French.\n",
    "\n",
    "To use py_heideltime with other languages proceed as follows:\n",
    "  \n",
    "  - Download from [TreeTagger](https://www.cis.uni-muenchen.de/~schmid/tools/TreeTagger/) the parameter files\n",
    "  - gunzip < Downloaded file >\n",
    "  - Copy the extracted file to the module folder /py_heideltime/HeidelTime/TreeTagger< your system >/lib/"
   ]
  },
  {
   "cell_type": "markdown",
   "metadata": {},
   "source": [
    "### Where can I find py_heideltime?"
   ]
  },
  {
   "cell_type": "markdown",
   "metadata": {},
   "source": [
    "https://github.com/JMendes1995/py_heideltime"
   ]
  },
  {
   "cell_type": "markdown",
   "metadata": {},
   "source": [
    "## Package"
   ]
  },
  {
   "cell_type": "markdown",
   "metadata": {},
   "source": [
    "### Installation"
   ]
  },
  {
   "cell_type": "markdown",
   "metadata": {},
   "source": [
    "Check [py_heideltime](https://github.com/JMendes1995/py_heideltime) for more details on how to install this package."
   ]
  },
  {
   "cell_type": "markdown",
   "metadata": {},
   "source": [
    "### Usage (Python)"
   ]
  },
  {
   "cell_type": "code",
   "execution_count": 1,
   "metadata": {},
   "outputs": [],
   "source": [
    "from py_heideltime import py_heideltime\n",
    "\n",
    "text = '''\n",
    "Thurs August 31st - News today that they are beginning 1092-1107 to evacuate the London children tomorrow. Percy is a billeting officer. I can't see that they will be much safer here.\n",
    "'''"
   ]
  },
  {
   "cell_type": "markdown",
   "metadata": {},
   "source": [
    "#### Default Parameters"
   ]
  },
  {
   "cell_type": "markdown",
   "metadata": {},
   "source": [
    "Default language is \"English\" and document_type is \"news\" which means that having:"
   ]
  },
  {
   "cell_type": "code",
   "execution_count": 4,
   "metadata": {},
   "outputs": [],
   "source": [
    "results = py_heideltime(text)"
   ]
  },
  {
   "cell_type": "markdown",
   "metadata": {},
   "source": [
    "or"
   ]
  },
  {
   "cell_type": "code",
   "execution_count": 72,
   "metadata": {},
   "outputs": [],
   "source": [
    "results = py_heideltime(text, language='English',  document_type='news')"
   ]
  },
  {
   "cell_type": "markdown",
   "metadata": {},
   "source": [
    "is exactly the same thing and produces the same results."
   ]
  },
  {
   "cell_type": "markdown",
   "metadata": {},
   "source": [
    "** Output **"
   ]
  },
  {
   "cell_type": "markdown",
   "metadata": {},
   "source": [
    "The output will be a list of 4 elements or an empty list [] if no temporal expression is found in the text. The three elements are:"
   ]
  },
  {
   "cell_type": "markdown",
   "metadata": {},
   "source": [
    "- a list of tuples with two positions (e.g., ('XXXX-08-31', 'August 31st')). The first one is the detected temporal expression normalized by heideltime. The second is the temporal expression as it was found in the text;\n",
    "- a normalized version of the text, where each temporal expression is replaced by its normalized heideltime counterpart;\n",
    "- a TimeML-annotated version of the text.\n",
    "- the execution time of the algorithm, divided into `heideltime_processing` (i.e., the time spent by the heideltime algorithm in extracting temporal expressions) and `text_normalization` (the time spent by the program in labelling the temporal expressions found in the text with a tag <d>)."
   ]
  },
  {
   "cell_type": "code",
   "execution_count": 3,
   "metadata": {},
   "outputs": [
    {
     "data": {
      "text/plain": [
       "[('XXXX-08-31', 'August 31st'),\n",
       " ('PRESENT_REF', 'today'),\n",
       " ('1092', '1092'),\n",
       " ('1107', '1107'),\n",
       " ('XXXX-XX-XX', 'tomorrow')]"
      ]
     },
     "execution_count": 3,
     "metadata": {},
     "output_type": "execute_result"
    }
   ],
   "source": [
    "TempExpressions = results[0]\n",
    "TempExpressions"
   ]
  },
  {
   "cell_type": "code",
   "execution_count": 74,
   "metadata": {},
   "outputs": [
    {
     "data": {
      "text/plain": [
       "\"Thurs <d>XXXX-08-31</d> - News <d>PRESENT_REF</d> that they are beginning <d>1092</d>-<d>1107</d> to evacuate the London children <d>XXXX-XX-XX</d>. Percy is a billeting officer. I can't see that they will be much safer here.\""
      ]
     },
     "execution_count": 74,
     "metadata": {},
     "output_type": "execute_result"
    }
   ],
   "source": [
    "TextNormalized = results[1]\n",
    "TextNormalized"
   ]
  },
  {
   "cell_type": "code",
   "execution_count": 75,
   "metadata": {},
   "outputs": [
    {
     "data": {
      "text/plain": [
       "'Thurs <TIMEX3 tid=\"t4\" type=\"DATE\" value=\"XXXX-08-31\">August 31st</TIMEX3> - News <TIMEX3 tid=\"t5\" type=\"DATE\" value=\"PRESENT_REF\">today</TIMEX3> that they are beginning <TIMEX3 tid=\"t1\" type=\"DATE\" value=\"1092\">1092</TIMEX3>-<TIMEX3 tid=\"t2\" type=\"DATE\" value=\"1107\">1107</TIMEX3> to evacuate the London children <TIMEX3 tid=\"t6\" type=\"DATE\" value=\"XXXX-XX-XX\">tomorrow</TIMEX3>. Percy is a billeting officer. I can\\'t see that they will be much safer here.'"
      ]
     },
     "execution_count": 75,
     "metadata": {},
     "output_type": "execute_result"
    }
   ],
   "source": [
    "TimeML = results[2]\n",
    "TimeML"
   ]
  },
  {
   "cell_type": "code",
   "execution_count": 76,
   "metadata": {},
   "outputs": [
    {
     "data": {
      "text/plain": [
       "{'heideltime_processing': 4.52547812461853,\n",
       " 'py_heideltime_text_normalization': 0.0}"
      ]
     },
     "execution_count": 76,
     "metadata": {},
     "output_type": "execute_result"
    }
   ],
   "source": [
    "ExecutionTime = results[3]\n",
    "ExecutionTime"
   ]
  },
  {
   "cell_type": "markdown",
   "metadata": {},
   "source": [
    "#### Optional Parameters"
   ]
  },
  {
   "cell_type": "markdown",
   "metadata": {},
   "source": [
    "Besides running py_heideltime with the default parameters, users can also specify more advanced options. These are:  \n",
    "- `date granularity`: <b>\"full\"</b> (Highest possible granularity detected will be retrieved); <b>\"year\"</b> (YYYY will be retrieved); <b>\"month\"</b> (YYYY-MM will be retrieved); <b>\"day\"</b> (YYYY-MM-DD will be retrieved)\n",
    "- `document type` <b>\"news\"</b> (news-style documents); <b>\"narrative\"</b> (narrative-style documents (e.g., Wikipedia articles)); <b>\"colloquial\"</b> (English colloquial (e.g., Tweets and SMS)); <b>\"scientific\"</b> (scientific articles (e.g., clinical trails))\n",
    "- `document creation time`: in the format <b>YYYY-MM-DD</b>"
   ]
  },
  {
   "cell_type": "code",
   "execution_count": 77,
   "metadata": {},
   "outputs": [],
   "source": [
    "results = py_heideltime(text, language='English', date_granularity=\"day\", document_type='news', document_creation_time='1939-08-31')"
   ]
  },
  {
   "cell_type": "markdown",
   "metadata": {},
   "source": [
    "** Output **"
   ]
  },
  {
   "cell_type": "markdown",
   "metadata": {},
   "source": [
    "The output follows the same patterns as described above."
   ]
  },
  {
   "cell_type": "code",
   "execution_count": 78,
   "metadata": {},
   "outputs": [
    {
     "data": {
      "text/plain": [
       "[('1939-08-31', 'August 31st'),\n",
       " ('1939-08-31', 'today'),\n",
       " ('1939-09-01', 'tomorrow')]"
      ]
     },
     "execution_count": 78,
     "metadata": {},
     "output_type": "execute_result"
    }
   ],
   "source": [
    "TempExpressions = results[0]\n",
    "TempExpressions"
   ]
  },
  {
   "cell_type": "code",
   "execution_count": 79,
   "metadata": {},
   "outputs": [
    {
     "data": {
      "text/plain": [
       "\"Thurs <d>1939-08-31</d> - News <d>1939-08-31</d> that they are beginning <d>1092</d>-<d>1107</d> to evacuate the London children <d>1939-09-01</d>. Percy is a billeting officer. I can't see that they will be much safer here.\""
      ]
     },
     "execution_count": 79,
     "metadata": {},
     "output_type": "execute_result"
    }
   ],
   "source": [
    "TextNormalized = results[1]\n",
    "TextNormalized"
   ]
  },
  {
   "cell_type": "code",
   "execution_count": 80,
   "metadata": {},
   "outputs": [
    {
     "data": {
      "text/plain": [
       "'Thurs <TIMEX3 tid=\"t4\" type=\"DATE\" value=\"1939-08-31\">August 31st</TIMEX3> - News <TIMEX3 tid=\"t5\" type=\"DATE\" value=\"1939-08-31\">today</TIMEX3> that they are beginning <TIMEX3 tid=\"t1\" type=\"DATE\" value=\"1092\">1092</TIMEX3>-<TIMEX3 tid=\"t2\" type=\"DATE\" value=\"1107\">1107</TIMEX3> to evacuate the London children <TIMEX3 tid=\"t6\" type=\"DATE\" value=\"1939-09-01\">tomorrow</TIMEX3>. Percy is a billeting officer. I can\\'t see that they will be much safer here.'"
      ]
     },
     "execution_count": 80,
     "metadata": {},
     "output_type": "execute_result"
    }
   ],
   "source": [
    "TimeML = results[2]\n",
    "TimeML"
   ]
  },
  {
   "cell_type": "code",
   "execution_count": 81,
   "metadata": {},
   "outputs": [
    {
     "data": {
      "text/plain": [
       "{'heideltime_processing': 4.280120134353638,\n",
       " 'py_heideltime_text_normalization': 0.01390385627746582}"
      ]
     },
     "execution_count": 81,
     "metadata": {},
     "output_type": "execute_result"
    }
   ],
   "source": [
    "ExecutionTime = results[3]\n",
    "ExecutionTime"
   ]
  },
  {
   "cell_type": "markdown",
   "metadata": {},
   "source": [
    "### Usage (Command Line)"
   ]
  },
  {
   "cell_type": "markdown",
   "metadata": {},
   "source": [
    "** default parameters **"
   ]
  },
  {
   "cell_type": "markdown",
   "metadata": {},
   "source": [
    "```\n",
    "py_heideltime -t \"August 31st ...\" -l \"English\"\n",
    "py_heideltime -i \"text.txt\" -l \"English\"\n",
    "```"
   ]
  },
  {
   "cell_type": "markdown",
   "metadata": {},
   "source": [
    "** all the parameters **"
   ]
  },
  {
   "cell_type": "markdown",
   "metadata": {},
   "source": [
    "```\n",
    "py_heideltime -t \"August 31st\" -l \"English\" -dg \"day\" -dt \"News\" -dct \"1939-05-05\"\n",
    "py_heideltime -i \"text.txt\" -l \"English\" -dg \"day\" -dt \"News\" -dct \"1939-05-05\"\n",
    "```"
   ]
  },
  {
   "cell_type": "markdown",
   "metadata": {},
   "source": [
    "** More Information **"
   ]
  },
  {
   "cell_type": "markdown",
   "metadata": {},
   "source": [
    "More information on how executing py_rule_based through the command line can be found here: https://github.com/JMendes1995/py_heideltime/#Python_Cli"
   ]
  },
  {
   "cell_type": "markdown",
   "metadata": {},
   "source": [
    "## Related Projects"
   ]
  },
  {
   "cell_type": "markdown",
   "metadata": {},
   "source": [
    "Please check [py_rule_based](https://github.com/JMendes1995/py_rule_based) if you are interested in extracting dates by means of a rule-based model solution."
   ]
  },
  {
   "cell_type": "markdown",
   "metadata": {},
   "source": [
    "Please check [Time-Matters](https://github.com/LIAAD/Time-Matters) if you are interested in detecting the relevance (score) of dates in a text."
   ]
  },
  {
   "cell_type": "markdown",
   "metadata": {},
   "source": [
    "## References"
   ]
  },
  {
   "cell_type": "markdown",
   "metadata": {},
   "source": [
    "If you use HeidelTime (either through this package or another one) please cite the appropriate paper. In general, this would be:\n",
    "\n",
    "Strötgen, Gertz: Multilingual and Cross-domain Temporal Tagging. Language Resources and Evaluation, 2013. [pdf](https://link.springer.com/article/10.1007%2Fs10579-012-9179-y) [bibtex](https://dbs.ifi.uni-heidelberg.de/files/Team/jannik/publications/stroetgen_bib.html#LREjournal2013)"
   ]
  },
  {
   "cell_type": "markdown",
   "metadata": {},
   "source": [
    "Other related papers may be found here: https://github.com/HeidelTime/heideltime#Publications"
   ]
  }
 ],
 "metadata": {
  "kernelspec": {
   "display_name": "Python 3",
   "language": "python",
   "name": "python3"
  },
  "language_info": {
   "codemirror_mode": {
    "name": "ipython",
    "version": 3
   },
   "file_extension": ".py",
   "mimetype": "text/x-python",
   "name": "python",
   "nbconvert_exporter": "python",
   "pygments_lexer": "ipython3",
   "version": "3.6.5"
  },
  "toc": {
   "base_numbering": 1,
   "nav_menu": {},
   "number_sections": true,
   "sideBar": true,
   "skip_h1_title": true,
   "title_cell": "Table of Contents",
   "title_sidebar": "Contents",
   "toc_cell": true,
   "toc_position": {
    "height": "calc(100% - 180px)",
    "left": "10px",
    "top": "150px",
    "width": "261px"
   },
   "toc_section_display": true,
   "toc_window_display": true
  }
 },
 "nbformat": 4,
 "nbformat_minor": 2
}
